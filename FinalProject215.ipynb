{
 "cells": [
  {
   "cell_type": "markdown",
   "metadata": {},
   "source": [
    "# CSC 215 Final Project\n",
    "# Amit Kulkarni  Ninad Jadhav"
   ]
  },
  {
   "cell_type": "markdown",
   "metadata": {},
   "source": [
    "\n",
    "# Web Genre Classification using Naive Bayes and Text Transfer Learning through Glove and Custom built WF-257 based only on URLs of website.\n",
    "\n"
   ]
  },
  {
   "cell_type": "code",
   "execution_count": 2,
   "metadata": {},
   "outputs": [],
   "source": [
    "import logging\n",
    "import pandas as pd\n",
    "import numpy as np\n",
    "from numpy import random\n",
    "\n",
    "import nltk\n",
    "from sklearn.model_selection import train_test_split\n",
    "from sklearn.feature_extraction.text import CountVectorizer, TfidfVectorizer\n",
    "from sklearn.metrics import accuracy_score, confusion_matrix\n",
    "import matplotlib.pyplot as plt\n",
    "from nltk.corpus import stopwords\n",
    "import re\n",
    "from bs4 import BeautifulSoup\n",
    "%matplotlib inline"
   ]
  },
  {
   "cell_type": "code",
   "execution_count": 270,
   "metadata": {},
   "outputs": [],
   "source": [
    "import requests\n",
    "from bs4 import BeautifulSoup\n",
    "import csv"
   ]
  },
  {
   "cell_type": "markdown",
   "metadata": {},
   "source": [
    "# Web Scraping to obtain contents from websites"
   ]
  },
  {
   "cell_type": "code",
   "execution_count": 274,
   "metadata": {},
   "outputs": [
    {
     "name": "stdout",
     "output_type": "stream",
     "text": [
      "Line 2 is https://cscar.research.umich.edu/\n",
      "Title:   CSCAR\n",
      "Content: OVERVIEW This workshop will provide a brief overview of\n",
      "HREF Label: Skip to main content\n",
      "Line 2 is https://cla.umn.edu/statistics\n",
      "Title: School of Statistics | Statistics | College of Liberal Arts | University of Minnesota\n",
      "Content: Our world is governed by knowledge gained through stati\n",
      "HREF Label: Skip to main navigation\n",
      "Line 2 is https://www.sph.umn.edu/academics/divisions/biostatistics/\n",
      "Title: Biostatistics - Academic Divisions - School of Public Health - University of Minnesota\n",
      "Content: <span class=\"lede\">The Division of Biostatistics focuse\n",
      "HREF Label: Main navigation\n",
      "Line 2 is https://www.stat.missouri.edu/\n",
      "Title: Statistics\n",
      "Content: <a href=\"https://missouri.edu\">Mizzou Logo</a>\n",
      "HREF Label: Skip to main content\n",
      "Line 2 is https://statistics.unl.edu/\n",
      "Title: Department of Statistics | Nebraska\n",
      "Content: <span style=\"color:#d00000;\">Statistics</span> as a dis\n",
      "HREF Label: Skip to main content\n",
      "Line 2 is http://stat.unm.edu/\n",
      "Title: The Department of Mathematics & Statistics | Department of Mathematics & Statistics\n",
      "Content: <span><strong>Campus Address</strong>:</span><br/><span\n",
      "HREF Label: Skip to content\n",
      "Line 2 is https://sph.unc.edu/bios/biostatistics/\n",
      "Title: Biostatistics • UNC Gillings School of Global Public Health\n",
      "Content: Our Department of Biostatistics is recognized as a worl\n",
      "HREF Label: <img alt=\"Gillings School of Public Health\" class=\"u-im\n",
      "Line 2 is https://statistics.wharton.upenn.edu/\n",
      "Title: Wharton Statistics Department - Statistics Department\n",
      "Content: The aim of statistical modeling is to empower effective\n",
      "HREF Label: Skip to content\n",
      "Line 2 is https://web.uri.edu/cs/\n",
      "Title: Department of Computer Science and Statistics – College of Arts and Sciences\n",
      "Content: You are not afraid to think outside your comfort zone a\n",
      "HREF Label: Skip to content\n",
      "Line 2 is https://www.urmc.rochester.edu/biostat.aspx\n",
      "Title: \n",
      "\tDepartment of Biostatistics and Computational Biology - University of Rochester Medical Center\n",
      "\n",
      "Content: <a href=\"/patients-families.aspx\">More information on P\n",
      "HREF Label: Skip to main content\n",
      "Line 2 is https://www.uvm.edu/cems/mathstat\n",
      "Title: Department of Mathematics & Statistics | Department of Mathematics & Statistics | The University of Vermont\n",
      "Content: <a class=\"element-invisible element-focusable\" href=\"#m\n",
      "HREF Label: Jump to navigation\n",
      "Line 2 is https://www.stat.washington.edu/\n",
      "Title: Home | University of Washington Department of Statistics\n",
      "Content: At a moment of great opportunity, the University of Was\n",
      "HREF Label: Skip to main content\n",
      "Line 2 is https://stat.wisc.edu/\n",
      "Title: Department of Statistics – College of Letters & Science – UW–Madison\n",
      "Content: <em>The UW-Madison Department of Statistics is a highly\n",
      "HREF Label: Skip to main content\n",
      "Line 2 is http://www.uwyo.edu/mathstats/\n",
      "Title: Department of Mathematics and Statistics | University of Wyoming\n",
      "Content: <a href=\"#expanderContent\">Skip to Main Navigation. Eac\n",
      "HREF Label: Skip to Main Navigation. Each navigation link will open\n",
      "Line 2 is http://www.math.usu.edu/\n",
      "Title: Math & Statistics Department | USU\n",
      "Content: \n",
      "HREF Label: Skip to main content\n",
      "Line 2 is https://biostatistics.vcu.edu/\n",
      "Title: Department of Biostatistics - VCU School of Medicine\n",
      "Content: Find out about our mission and a general overview of th\n",
      "HREF Label: Skip to navigation\n",
      "Line 2 is https://www.stat.vt.edu/\n",
      "Title: Home  | Department of Statistics | Virginia Tech\n",
      "Content: Join us and learn how to distinguish the signal from th\n",
      "HREF Label: <img alt=\"\" aria-hidden=\"true\" class=\"vt-access-item-li\n",
      "Line 2 is https://biostat.wustl.edu/\n",
      "Title: WUSM Biostatstics Secure Web Pages\n",
      "Content: The server secure.biostat.wustl.edu houses the Secure W\n",
      "HREF Label: <img src=\"/images/830template_01.gif\"/>\n",
      "Line 2 is https://www.wpi.edu/academics/departments/mathematical-sciences\n",
      "Title: Mathematical Sciences | Academics | WPI\n",
      "Content: Common Searches:\n",
      "HREF Label: Skip to main content\n",
      "Line 2 is https://www.dal.ca/faculty/science/math-stats.html\n",
      "Title: Department of Mathematics and Statistics - Dalhousie University\n",
      "Content: Wondering which first year math course to register for?\n",
      "HREF Label: Support Dal\n",
      "Line 2 is https://www.lakeheadu.ca/programs/departments/math\n",
      "Title: Mathematical Sciences | Lakehead University\n",
      "Content: <span>Hours: </span>    Monday to Friday1:00 - 4:30 PM\n",
      "HREF Label: LakeheadU.ca\n",
      "Line 2 is https://laurentian.ca/program/mathematics-ba\n",
      "Title: Mathematics | Program Overview\n",
      "Content: The study of numbers equals a number of possibilities!\n",
      "HREF Label: Students\n",
      "Line 2 is https://www.mcgill.ca/mathstat/\n",
      "Title: Mathematics and Statistics - McGill University\n",
      "Content: <a href=\"https://ssc.ca/en/publications/ssc-liaison/vol\n",
      "HREF Label: Email\n",
      "Line 2 is https://www.math.mcmaster.ca/\n",
      "Title: Home - Mathematics & Statistics | McMaster University\n",
      "Content: The Department of Mathematics & Statistics is comm\n",
      "HREF Label: Home\n",
      "Line 2 is https://www.mun.ca/math/\n",
      "Title: Department of Mathematics and Statistics | Mathematics and Statistics | Memorial University of Newfoundland\n",
      "Content: Welcome to the Department of Mathematics and Statistics\n",
      "HREF Label: Memorial University\n",
      "Line 2 is https://www.mta.ca/programs/math/\n",
      "Title: \n",
      "\tMount Allison University | Mathematics\n",
      "\n",
      "Content: <span class=\"subtitles\">Faculty:</span> Faculty of Scie\n",
      "HREF Label: <img alt=\"Mount Allison University\" data-src-large=\"/Co\n",
      "Line 2 is https://www.msvu.ca/en/home/programsdepartments/bachelorofscience/mathematics/default.aspx\n",
      "Title: \n",
      "\tMathematics Program | Bachelor of Science | Halifax, Nova Scotia\n",
      "\n",
      "Content: <strong>NOTE: </strong>Banner images should be placed i\n",
      "HREF Label: Home\n",
      "Line 2 is https://www.queensu.ca/mathstat/\n",
      "Title: Home | Department of Mathematics and Statistics\n",
      "Content: <a href=\"/mathstat/lorne-campbell-lectureship-olgica-mi\n",
      "HREF Label: Skip to main content\n",
      "Line 2 is https://www.rmc-cmr.ca/en/mathematics-and-computer-science/department-mathematics-and-computer-science\n",
      "Title: The Department of Mathematics and Computer Science\n",
      "Content: The Department of Mathematics and Computer Science has\n",
      "HREF Label: Skip to main content\n",
      "Line 2 is https://smu.ca/academics/departments/mathematics-and-computing-science.html\n",
      "Title: Saint Mary's University | Mathematics & Computing Science - Home\n",
      "Content: \n",
      "HREF Label: Saint Mary's University\n",
      "Line 2 is http://www.sfu.ca/math.html\n",
      "Title: Department of Mathematics - Simon Fraser University\n",
      "Content: <a href=\"https://www.facebook.com/simonfraseruniversity\n",
      "HREF Label: SFU.ca\n",
      "Line 2 is http://www2.mystfx.ca/mscs/\n",
      "Title: MSCS | St. Francis Xavier University\n",
      "Content: 2323 Notre Dame Ave<br/>\n",
      "St. Francis Xavier University<\n",
      "HREF Label: Skip to main content\n",
      "Line 2 is https://www.trentu.ca/math/\n",
      "Title: Math - Trent University\n",
      "Content: Math forges powerful tools which are used in every area\n",
      "HREF Label: Skip to main content\n",
      "Line 2 is https://www.ualberta.ca/mathematical-and-statistical-sciences\n",
      "Title: \n",
      "\tMathematical and Statistical Sciences | Faculty of Science\n",
      "\n",
      "Content: <img alt=\"\" height=\"225\" src=\"https://cloudfront.ualber\n",
      "HREF Label: <img alt=\"University of Alberta\" data-llsrc=\"https://cl\n",
      "Line 2 is https://brocku.ca/mathematics-science/mathematics\n",
      "Title: Mathematics & Statistics\n",
      "Content: Get to know our Faculty members and their research inte\n",
      "HREF Label: Skip to search\n",
      "Line 2 is https://carleton.ca/math/\n",
      "Title: School of Mathematics and Statistics - Carleton University\n",
      "Content: Welcome to the\n",
      "HREF Label: Skip to Main Content\n",
      "Line 2 is https://math.acadiau.ca/dept-welcome.html\n",
      "Title: Welcome - Mathematics and Statistics\n",
      "Content: <sub>Acadia Math &amp; Stat Grads:  You could be featur\n",
      "HREF Label: Skip navigation\n",
      "Line 2 is https://www.brandonu.ca/math-compsci/\n",
      "Title: Mathematics & Computer Science | Brandon University\n",
      "Content: In addition to the various computer laboratories, the d\n",
      "HREF Label: Webmail\n",
      "Line 2 is http://www.math.ubc.ca/\n",
      "Title: Welcome...\n",
      "Content: <div class=\"fRight\">\n",
      "<a href=\"/~holroyd/sort/\"><img alt\n",
      "HREF Label: <div id=\"bodypage\">\n",
      "<div id=\"mainheader\">\n",
      "<div id=\"ubcH\n",
      "Line 2 is http://www.mathstat.uoguelph.ca/\n",
      "Title: Error\n",
      "Content: The gods are wise, but do not know of the site which yo\n",
      "HREF Label: <span>Pantheon</span>\n",
      "Line 2 is https://www.math.umanitoba.ca/\n"
     ]
    },
    {
     "name": "stdout",
     "output_type": "stream",
     "text": [
      "Title: Department of Mathematics\n",
      "Content: We do active research in\n",
      "algebra,\n",
      "analysis,\n",
      "approximati\n",
      "HREF Label: <div class=\"header__svg-wrapper-main\">\n",
      "<svg version=\"1.\n",
      "Line 2 is https://www.unb.ca/fredericton/science/undergrad/options/mathematics/index.html\n",
      "Title: Faculty of Science | Mathematics and Statistics | UNB\n",
      "Content: <img alt=\"Mathematics\" class=\"imageright\" src=\"../../..\n",
      "HREF Label: Skip to Main Content\n",
      "Line 2 is https://www.unbc.ca/math-statistics\n",
      "Title: Department of Mathematics and Statistics | University of Northern British Columbia\n",
      "Content: <a class=\"element-invisible element-focusable\" href=\"#m\n",
      "HREF Label: Jump to navigation\n",
      "Line 2 is https://science.uottawa.ca/mathstat/en\n",
      "Title: Home | Department of Mathematics and Statistics | University of Ottawa\n",
      "Content: A very involved and knowledgeable group of 44 talented<\n",
      "HREF Label: Jump to Main Content\n",
      "Line 2 is https://www.upei.ca/programs/mathematics\n",
      "Title: Mathematics | University of Prince Edward Island\n",
      "Content: Mathematics is the study of quantity, structure and spa\n",
      "HREF Label: Skip to main content\n",
      "Line 2 is https://www.uregina.ca/science/mathstat/\n",
      "Title: \n",
      "    Welcome to the Department of Mathematics and Statistics | Mathematics and Statistics, University of Regina\n",
      "\n",
      "Content: <p>The Department of Mathematics and Statistics is an a\n",
      "HREF Label: <span class=\"hidden\">U of R Home</span><img alt=\"Univer\n",
      "Line 2 is https://artsandscience.usask.ca/math/\n",
      "Title:             \n",
      "    \n",
      "\n",
      "                                                                                                                                                                                                                                                                                                                                                                                                                                                                                                                        \n",
      "        \n",
      "        \n",
      "        \n",
      "        \n",
      "    Mathematics and Statistics - Department of Mathematics and Statistics - Arts and Science\n",
      " - University of Saskatchewan\n",
      "Content: <a class=\"btn btn-lg btn-primary\" href=\"https://artsand\n",
      "HREF Label: Skip to main content\n",
      "Line 2 is http://www.math.toronto.edu/cms/\n",
      "Title:  » Department of Mathematics\n",
      "Content: <a href=\"http://www.math.toronto.edu/dept/search.html\">\n",
      "HREF Label: Search\n",
      "Line 2 is https://www.uvic.ca/science/math-statistics/\n",
      "Title: \n",
      "            Mathematics & Statistics - University of Victoria        \n",
      "        \n",
      "Content: <p>The UVic math and stats community is dynamic, suppor\n",
      "HREF Label: global menu\n",
      "Line 2 is https://uwaterloo.ca/math/\n",
      "Title: Home | Mathematics | University of Waterloo\n",
      "Content: million dollars in research funding (2018/19)\n",
      "HREF Label: Skip to main\n",
      "Line 2 is https://www.math.uwo.ca/\n",
      "Title: The Department of Mathematics - Western University\n",
      "Content: <span><strong>Welcome to the Department of Mathematics!\n",
      "HREF Label: Libraries\n",
      "Line 2 is http://www1.uwindsor.ca/math/\n",
      "Title: Welcome to Mathematics and Statistics | Mathematics and Statistics - University of Windsor\n",
      "Content: <img alt=\"\" src=\"http://www1.uwindsor.ca/math/system/fi\n",
      "HREF Label: Text Only\n",
      "Line 2 is https://www.uwinnipeg.ca/mathstats/\n",
      "Title: Home | Mathematics and Statistics | The University of Winnipeg\n",
      "Content: The scope of mathematics ranges from Computer Science t\n",
      "HREF Label: University of Winnipeg\n",
      "Line 2 is https://www.mat.ulaval.ca/accueil/\n",
      "Title: Département de mathématiques et de statistique: Accueil\n",
      "Content: Futurs étudiants\n",
      "HREF Label: <div>Faculté des sciences et de génie</div>\n",
      "Line 2 is https://scitech.viu.ca/mathematics\n",
      "Title: Overview | Mathematics | VIU\n",
      "Content: The Mathematics Department offers a wide variety of mat\n",
      "HREF Label: Skip to main content\n",
      "Line 2 is http://mathstats.info.yorku.ca/\n",
      "Title: Department of Mathematics and Statistics\n",
      "Content: Welcome to the webpage for the Department of Mathematic\n",
      "HREF Label: Skip to main content\n"
     ]
    }
   ],
   "source": [
    "import os\n",
    "path = 'C:/Users/Amit/Desktop/'\n",
    "fn = 'urlset.csv'\n",
    "fn1 ='urlsetoutput.csv'\n",
    "\n",
    "# this is  web scraping module demo. This module was used several times on several files to obtain the final URL_Data.csv\n",
    "with open(os.path.join(path, fn)) as f_urls, open(os.path.join(path, fn1), 'w', newline='',encoding=\"utf-8\") as f_output:\n",
    "    csv_urls = csv.reader(f_urls)\n",
    "    csv_output = csv.writer(f_output)\n",
    "    csv_output.writerow(['Title','Content','MetaDesc','Meta keywords','HREF Label'])\n",
    "    \n",
    "    none='no title'\n",
    "    for line in csv_urls:\n",
    "        headers = {'User-Agent': 'Mozilla/5.0'}\n",
    "        print(\"Line 2 is\",line[1])\n",
    "        r = requests.get(line[1],headers=headers).text\n",
    "        soup = BeautifulSoup(r, 'html.parser')\n",
    "        title = soup.find('title')\n",
    "        if(title==None):\n",
    "            title=none\n",
    "        else:\n",
    "            print('Title:', title.text)\n",
    "        \n",
    "        content = soup.find('p')\n",
    "        if(content==None):\n",
    "            content=title\n",
    "            print('Content:',content)\n",
    "        else:\n",
    "            paragraphs = ''\n",
    "            for x in content:\n",
    "                paragraphs+=str(x)\n",
    "                paragraphs=paragraphs[0:55].strip()\n",
    "                content=paragraphs\n",
    "            print('Content:',paragraphs)\n",
    "        metas = soup.find_all('meta')\n",
    "        meta=''\n",
    "        if (metas==None):\n",
    "            meta=title\n",
    "        else:\n",
    "            for meta1 in metas:\n",
    "                if ('name' in meta1.attrs and meta1.attrs['name'] == 'description'):\n",
    "                    meta = meta1.attrs['content']\n",
    "                    \n",
    "            for meta2 in metas:\n",
    "                if ('name' in meta2.attrs and meta2.attrs['name'] == 'keywords'):\n",
    "                    meta = meta2.attrs['content']\n",
    "                   \n",
    "        anchor = soup.find('a')\n",
    "        atag = ''\n",
    "        if(anchor==None):\n",
    "            atag='none'\n",
    "        else:\n",
    "            for x in anchor:\n",
    "                atag+=str(x)\n",
    "                atag=atag[0:55].strip() \n",
    "        print(\"HREF Label:\",atag)\n",
    "        csv_output.writerow([title, content,meta ,meta,atag])"
   ]
  },
  {
   "cell_type": "markdown",
   "metadata": {},
   "source": [
    "# Data- PreProcessing"
   ]
  },
  {
   "cell_type": "code",
   "execution_count": 3,
   "metadata": {},
   "outputs": [],
   "source": [
    "dataset=pd.read_csv('C:\\\\Users\\\\Amit\\\\Desktop\\\\URL_Data.csv')"
   ]
  },
  {
   "cell_type": "code",
   "execution_count": 4,
   "metadata": {},
   "outputs": [],
   "source": [
    "import re\n",
    "import matplotlib\n",
    "import numpy as np\n",
    "import matplotlib.pyplot as plt\n",
    "import pandas as pd\n",
    "from sklearn.model_selection import train_test_split\n",
    "from sklearn.feature_extraction.text import TfidfVectorizer\n",
    "from sklearn.naive_bayes import MultinomialNB\n",
    "from sklearn.metrics import accuracy_score\n",
    "from sklearn.multiclass import OneVsRestClassifier\n",
    "from nltk.corpus import stopwords\n",
    "stop_words = set(stopwords.words('english'))\n",
    "from sklearn.svm import LinearSVC\n",
    "from sklearn.linear_model import LogisticRegression\n",
    "from sklearn.pipeline import Pipeline\n",
    "import seaborn as sns"
   ]
  },
  {
   "cell_type": "markdown",
   "metadata": {},
   "source": [
    "# Clean text function to remove stopwords given in paper and to remove special charaters and numbers."
   ]
  },
  {
   "cell_type": "code",
   "execution_count": 19,
   "metadata": {},
   "outputs": [],
   "source": [
    "def clean_text(text):\n",
    "    text = text.lower()\n",
    "    #removing stopwords provided in paper\n",
    "    text = re.sub(r\"what\", \" \", text)\n",
    "    text = re.sub(r\"Information\", \" \", text)\n",
    "    text = re.sub(r\"login\", \" \", text)\n",
    "    text = re.sub(r\"web\", \" \",text)\n",
    "    text = re.sub(r\"online\", \" \",text)\n",
    "    text = re.sub(r\"search\", \" \",text)\n",
    "    text = re.sub(r\"keyword\", \" \",text)\n",
    "    text = re.sub(\"copyright\",\" \",text)\n",
    "    text = re.sub(\"rights\",\" \",text)\n",
    "    text = re.sub(\"reserved\", \" \",text)\n",
    "    text = re.sub(\"click\", \" \",text)\n",
    "    text = re.sub( \"website\",\" \",text)\n",
    "    text = re.sub( \"designed\",\" \",text)\n",
    "    text = re.sub(\"search\",\" \",text)\n",
    "    text = re.sub(\"click\",\" \",text)\n",
    "    text = re.sub(\"welcome\", \" \", text)\n",
    "    text = re.sub(\"email\", \" \", text)\n",
    "    text = re.sub(\"click\",\" \", text)\n",
    "    text = re.sub(\"contact\",\" \", text)\n",
    "    text = re.sub(\"mail\",\" \", text)\n",
    "    text = re.sub(\"home\",\" \", text)\n",
    "    text = re.sub(\"page\",\" \", text)\n",
    "    text = re.sub(\"feedback\",\" \", text)\n",
    "    #removing common english stopwords provided by nltk\n",
    "    text = ' '.join([word for word in text.split() if word not in stopwords.words(\"english\")])\n",
    "    text = re.sub('\\W', ' ', text)#remove nonword chars\n",
    "    text = re.sub('\\s+', ' ', text)# removing multiple spaces\n",
    "    text = re.sub(r\"[^A-Za-z]\", \" \", text)\n",
    "    text = re.sub(r\"\\'s\", \" \", text)\n",
    "    \n",
    "    text = text.strip(' ')\n",
    "    return text"
   ]
  },
  {
   "cell_type": "markdown",
   "metadata": {},
   "source": [
    "# Word Stemming"
   ]
  },
  {
   "cell_type": "code",
   "execution_count": 20,
   "metadata": {},
   "outputs": [],
   "source": [
    "from nltk.stem import PorterStemmer\n",
    "\n",
    "def stem(text):\n",
    "    text=str(text)\n",
    "    text = text.split()\n",
    "    stemmer =  PorterStemmer()\n",
    "    stemmed_words = [stemmer.stem(word) for word in text]\n",
    "    text = \" \".join(stemmed_words)\n",
    "    return text"
   ]
  },
  {
   "cell_type": "markdown",
   "metadata": {},
   "source": [
    "# Implementing Naive Bayes from paper"
   ]
  },
  {
   "cell_type": "code",
   "execution_count": 269,
   "metadata": {},
   "outputs": [],
   "source": [
    "dataset['Content'] = dataset['Content']+dataset['Title']+dataset['MetaDesc'] + dataset['Meta keywords']+dataset['HREF Label']"
   ]
  },
  {
   "cell_type": "code",
   "execution_count": 22,
   "metadata": {},
   "outputs": [],
   "source": [
    "dataset['Content'] =dataset['Content'].astype(str)"
   ]
  },
  {
   "cell_type": "code",
   "execution_count": 23,
   "metadata": {},
   "outputs": [],
   "source": [
    "dataset['Content'] = dataset['Content'].map(lambda rec : clean_text(rec))"
   ]
  },
  {
   "cell_type": "code",
   "execution_count": 24,
   "metadata": {},
   "outputs": [],
   "source": [
    "dataset['Content'] = dataset['Content'].map(lambda rec : stem(rec))"
   ]
  },
  {
   "cell_type": "code",
   "execution_count": 25,
   "metadata": {},
   "outputs": [],
   "source": [
    "X= dataset['Content']"
   ]
  },
  {
   "cell_type": "code",
   "execution_count": 26,
   "metadata": {},
   "outputs": [],
   "source": [
    "y = dataset['Category']"
   ]
  },
  {
   "cell_type": "code",
   "execution_count": 27,
   "metadata": {},
   "outputs": [],
   "source": [
    "from sklearn import preprocessing, metrics, naive_bayes, pipeline,feature_extraction \n",
    "le = preprocessing.LabelEncoder()\n",
    "le.fit(dataset.Category)\n",
    "\n",
    "y_data = le.transform(dataset.Category)"
   ]
  },
  {
   "cell_type": "code",
   "execution_count": 28,
   "metadata": {},
   "outputs": [],
   "source": [
    "X_data = dataset.Content.values"
   ]
  },
  {
   "cell_type": "code",
   "execution_count": 29,
   "metadata": {},
   "outputs": [],
   "source": [
    "import operator\n",
    "import matplotlib.pyplot as plt\n",
    "import seaborn as sns\n",
    "\n",
    "plt.style.use('ggplot')\n",
    "%matplotlib inline"
   ]
  },
  {
   "cell_type": "code",
   "execution_count": 30,
   "metadata": {},
   "outputs": [
    {
     "data": {
      "image/png": "[encoded data removed]",
      "text/plain": [
       "<Figure size 864x360 with 1 Axes>"
      ]
     },
     "metadata": {
      "needs_background": "light"
     },
     "output_type": "display_data"
    }
   ],
   "source": [
    "plt.figure(figsize=(12, 5))\n",
    "dataset.Category.value_counts().plot(kind='bar');\n",
    "plt.title('Category counts');"
   ]
  },
  {
   "cell_type": "code",
   "execution_count": 42,
   "metadata": {},
   "outputs": [],
   "source": [
    "X_train, X_test, y_train, y_test = train_test_split(X, y, test_size=0.3, random_state = 42)"
   ]
  },
  {
   "cell_type": "code",
   "execution_count": 43,
   "metadata": {},
   "outputs": [],
   "source": [
    "from sklearn.naive_bayes import MultinomialNB\n",
    "from sklearn.pipeline import Pipeline\n",
    "from sklearn.feature_extraction.text import TfidfTransformer"
   ]
  },
  {
   "cell_type": "code",
   "execution_count": 44,
   "metadata": {},
   "outputs": [],
   "source": [
    "nb = Pipeline([('vect', CountVectorizer()),\n",
    "               ('tfidf', TfidfTransformer()),\n",
    "               ('clf', MultinomialNB())\n",
    "              ])"
   ]
  },
  {
   "cell_type": "code",
   "execution_count": 45,
   "metadata": {},
   "outputs": [
    {
     "data": {
      "text/plain": [
       "Pipeline(memory=None,\n",
       "         steps=[('vect',\n",
       "                 CountVectorizer(analyzer='word', binary=False,\n",
       "                                 decode_error='strict',\n",
       "                                 dtype=<class 'numpy.int64'>, encoding='utf-8',\n",
       "                                 input='content', lowercase=True, max_df=1.0,\n",
       "                                 max_features=None, min_df=1,\n",
       "                                 ngram_range=(1, 1), preprocessor=None,\n",
       "                                 stop_words=None, strip_accents=None,\n",
       "                                 token_pattern='(?u)\\\\b\\\\w\\\\w+\\\\b',\n",
       "                                 tokenizer=None, vocabulary=None)),\n",
       "                ('tfidf',\n",
       "                 TfidfTransformer(norm='l2', smooth_idf=True,\n",
       "                                  sublinear_tf=False, use_idf=True)),\n",
       "                ('clf',\n",
       "                 MultinomialNB(alpha=1.0, class_prior=None, fit_prior=True))],\n",
       "         verbose=False)"
      ]
     },
     "execution_count": 45,
     "metadata": {},
     "output_type": "execute_result"
    }
   ],
   "source": [
    "nb.fit(X_train, y_train)"
   ]
  },
  {
   "cell_type": "code",
   "execution_count": 46,
   "metadata": {},
   "outputs": [],
   "source": [
    "from sklearn.metrics import classification_report\n",
    "y_pred = nb.predict(X_test)"
   ]
  },
  {
   "cell_type": "code",
   "execution_count": 47,
   "metadata": {},
   "outputs": [],
   "source": [
    "my_cat=['Academic','Automobile','Banking', 'BookSellers',\n",
    "       'Computer','Health','Hotel', 'Travel']"
   ]
  },
  {
   "cell_type": "code",
   "execution_count": 41,
   "metadata": {},
   "outputs": [
    {
     "name": "stdout",
     "output_type": "stream",
     "text": [
      "accuracy 0.42538975501113585\n",
      "              precision    recall  f1-score   support\n",
      "\n",
      "    Academic       0.85      0.52      0.64        97\n",
      "  Automobile       0.36      0.58      0.44       129\n",
      "     Banking       0.36      0.79      0.49       130\n",
      " BookSellers       0.36      0.38      0.37       115\n",
      "    Computer       0.50      0.08      0.14        96\n",
      "      Health       0.36      0.23      0.28       107\n",
      "       Hotel       0.53      0.42      0.47       139\n",
      "      Travel       0.82      0.21      0.34        85\n",
      "\n",
      "    accuracy                           0.43       898\n",
      "   macro avg       0.52      0.40      0.40       898\n",
      "weighted avg       0.50      0.43      0.41       898\n",
      "\n"
     ]
    }
   ],
   "source": [
    "print('accuracy %s' % accuracy_score(y_pred, y_test))\n",
    "print(classification_report(y_test, y_pred,target_names=my_cat))"
   ]
  },
  {
   "cell_type": "markdown",
   "metadata": {},
   "source": [
    "# Naive Bayes On Only Four Categories"
   ]
  },
  {
   "cell_type": "code",
   "execution_count": 49,
   "metadata": {},
   "outputs": [],
   "source": [
    "df=pd.read_csv('C:\\\\Users\\\\Amit\\\\Desktop\\\\Final_URL_Category.csv')"
   ]
  },
  {
   "cell_type": "code",
   "execution_count": 50,
   "metadata": {},
   "outputs": [],
   "source": [
    "df['Content'] =df['Content'].astype(str)\n",
    "df['Content'] = df['Content'].map(lambda com : clean_text(com))\n",
    "df['Content'] = df['Content'].map(lambda rec : stem(rec))\n",
    "X= df['Content']\n",
    "y = df['Category']\n",
    "\n",
    "\n",
    "from sklearn import preprocessing, metrics, naive_bayes, pipeline,feature_extraction \n",
    "le = preprocessing.LabelEncoder()\n",
    "le.fit(df.Category)\n",
    "\n",
    "y_data = le.transform(df.Category)\n",
    "X_data = df.Content.values\n"
   ]
  },
  {
   "cell_type": "code",
   "execution_count": 51,
   "metadata": {},
   "outputs": [],
   "source": [
    "import operator\n",
    "import matplotlib.pyplot as plt\n",
    "import seaborn as sns\n",
    "\n",
    "plt.style.use('ggplot')\n",
    "%matplotlib inline"
   ]
  },
  {
   "cell_type": "code",
   "execution_count": 52,
   "metadata": {},
   "outputs": [
    {
     "data": {
      "image/png": "[encoded data removed]",
      "text/plain": [
       "<Figure size 864x360 with 1 Axes>"
      ]
     },
     "metadata": {
      "needs_background": "light"
     },
     "output_type": "display_data"
    }
   ],
   "source": [
    "plt.figure(figsize=(12, 5))\n",
    "df.Category.value_counts().plot(kind='bar');\n",
    "plt.title('Category counts');"
   ]
  },
  {
   "cell_type": "code",
   "execution_count": 77,
   "metadata": {},
   "outputs": [],
   "source": [
    "X_train, X_test, y_train, y_test = train_test_split(X, y, test_size=0.3, random_state = 41)"
   ]
  },
  {
   "cell_type": "code",
   "execution_count": 78,
   "metadata": {},
   "outputs": [],
   "source": [
    "from sklearn.naive_bayes import MultinomialNB\n",
    "from sklearn.pipeline import Pipeline\n",
    "from sklearn.feature_extraction.text import TfidfTransformer\n",
    "\n",
    "nb = Pipeline([('vect', CountVectorizer()),\n",
    "               ('tfidf', TfidfTransformer()),\n",
    "               ('clf', MultinomialNB()),\n",
    "              ])\n",
    "\n"
   ]
  },
  {
   "cell_type": "code",
   "execution_count": 79,
   "metadata": {},
   "outputs": [
    {
     "data": {
      "text/plain": [
       "Pipeline(memory=None,\n",
       "         steps=[('vect',\n",
       "                 CountVectorizer(analyzer='word', binary=False,\n",
       "                                 decode_error='strict',\n",
       "                                 dtype=<class 'numpy.int64'>, encoding='utf-8',\n",
       "                                 input='content', lowercase=True, max_df=1.0,\n",
       "                                 max_features=None, min_df=1,\n",
       "                                 ngram_range=(1, 1), preprocessor=None,\n",
       "                                 stop_words=None, strip_accents=None,\n",
       "                                 token_pattern='(?u)\\\\b\\\\w\\\\w+\\\\b',\n",
       "                                 tokenizer=None, vocabulary=None)),\n",
       "                ('tfidf',\n",
       "                 TfidfTransformer(norm='l2', smooth_idf=True,\n",
       "                                  sublinear_tf=False, use_idf=True)),\n",
       "                ('clf',\n",
       "                 MultinomialNB(alpha=1.0, class_prior=None, fit_prior=True))],\n",
       "         verbose=False)"
      ]
     },
     "execution_count": 79,
     "metadata": {},
     "output_type": "execute_result"
    }
   ],
   "source": [
    "nb.fit(X_train, y_train)"
   ]
  },
  {
   "cell_type": "code",
   "execution_count": 80,
   "metadata": {},
   "outputs": [],
   "source": [
    "from sklearn.metrics import classification_report\n",
    "y_pred = nb.predict(X_test)"
   ]
  },
  {
   "cell_type": "code",
   "execution_count": 81,
   "metadata": {},
   "outputs": [],
   "source": [
    "my_cat=['Banking','Computer','Academic','Automobile']"
   ]
  },
  {
   "cell_type": "code",
   "execution_count": 76,
   "metadata": {},
   "outputs": [
    {
     "name": "stdout",
     "output_type": "stream",
     "text": [
      "accuracy 0.5504201680672269\n",
      "              precision    recall  f1-score   support\n",
      "\n",
      "     Banking       0.71      0.77      0.74        61\n",
      "    Computer       0.47      0.31      0.38        58\n",
      "    Academic       0.48      0.70      0.57        57\n",
      "  Automobile       0.52      0.42      0.46        62\n",
      "\n",
      "    accuracy                           0.55       238\n",
      "   macro avg       0.55      0.55      0.54       238\n",
      "weighted avg       0.55      0.55      0.54       238\n",
      "\n"
     ]
    }
   ],
   "source": [
    "print('accuracy %s' % accuracy_score(y_pred, y_test))\n",
    "print(classification_report(y_test, y_pred,target_names=my_cat))"
   ]
  },
  {
   "cell_type": "markdown",
   "metadata": {},
   "source": [
    "# Transfer Learning on text through Glove and using custom WF-257 Algorithm"
   ]
  },
  {
   "cell_type": "markdown",
   "metadata": {},
   "source": [
    "# Glove"
   ]
  },
  {
   "cell_type": "code",
   "execution_count": 259,
   "metadata": {},
   "outputs": [],
   "source": [
    "f = open('C:\\\\Users\\\\Amit\\\\Desktop\\glove.6B.100d.txt',encoding='utf-8')"
   ]
  },
  {
   "cell_type": "code",
   "execution_count": 260,
   "metadata": {},
   "outputs": [],
   "source": [
    "text = f.readlines()"
   ]
  },
  {
   "cell_type": "code",
   "execution_count": 261,
   "metadata": {},
   "outputs": [],
   "source": [
    "wordlist = [line.strip().split()[0] for line in text]"
   ]
  },
  {
   "cell_type": "code",
   "execution_count": 262,
   "metadata": {},
   "outputs": [],
   "source": [
    "vocab_size = 20000\n",
    "seq_len = 200\n",
    "from collections import Counter"
   ]
  },
  {
   "cell_type": "code",
   "execution_count": 263,
   "metadata": {},
   "outputs": [],
   "source": [
    "word_to_count = Counter(wordlist).most_common(vocab_size)"
   ]
  },
  {
   "cell_type": "code",
   "execution_count": 264,
   "metadata": {},
   "outputs": [
    {
     "data": {
      "text/plain": [
       "20000"
      ]
     },
     "execution_count": 264,
     "metadata": {},
     "output_type": "execute_result"
    }
   ],
   "source": [
    "len(word_to_count)"
   ]
  },
  {
   "cell_type": "code",
   "execution_count": 266,
   "metadata": {},
   "outputs": [],
   "source": [
    "word_to_count = {x[0]:i for i, x in enumerate(word_to_count)}"
   ]
  },
  {
   "cell_type": "code",
   "execution_count": 268,
   "metadata": {},
   "outputs": [
    {
     "data": {
      "text/plain": [
       "{'the': 0,\n",
       " ',': 1,\n",
       " '.': 2,\n",
       " 'of': 3,\n",
       " 'to': 4,\n",
       " 'and': 5,\n",
       " 'in': 6,\n",
       " 'a': 7,\n",
       " '\"': 8,\n",
       " \"'s\": 9,\n",
       " 'for': 10,\n",
       " '-': 11,\n",
       " 'that': 12,\n",
       " 'on': 13,\n",
       " 'is': 14,\n",
       " 'was': 15,\n",
       " 'said': 16,\n",
       " 'with': 17,\n",
       " 'he': 18,\n",
       " 'as': 19,\n",
       " 'it': 20,\n",
       " 'by': 21,\n",
       " 'at': 22,\n",
       " '(': 23,\n",
       " ')': 24,\n",
       " 'from': 25,\n",
       " 'his': 26,\n",
       " \"''\": 27,\n",
       " '``': 28,\n",
       " 'an': 29,\n",
       " 'be': 30,\n",
       " 'has': 31,\n",
       " 'are': 32,\n",
       " 'have': 33,\n",
       " 'but': 34,\n",
       " 'were': 35,\n",
       " 'not': 36,\n",
       " 'this': 37,\n",
       " 'who': 38,\n",
       " 'they': 39,\n",
       " 'had': 40,\n",
       " 'i': 41,\n",
       " 'which': 42,\n",
       " 'will': 43,\n",
       " 'their': 44,\n",
       " ':': 45,\n",
       " 'or': 46,\n",
       " 'its': 47,\n",
       " 'one': 48,\n",
       " 'after': 49,\n",
       " 'new': 50,\n",
       " 'been': 51,\n",
       " 'also': 52,\n",
       " 'we': 53,\n",
       " 'would': 54,\n",
       " 'two': 55,\n",
       " 'more': 56,\n",
       " \"'\": 57,\n",
       " 'first': 58,\n",
       " 'about': 59,\n",
       " 'up': 60,\n",
       " 'when': 61,\n",
       " 'year': 62,\n",
       " 'there': 63,\n",
       " 'all': 64,\n",
       " '--': 65,\n",
       " 'out': 66,\n",
       " 'she': 67,\n",
       " 'other': 68,\n",
       " 'people': 69,\n",
       " \"n't\": 70,\n",
       " 'her': 71,\n",
       " 'percent': 72,\n",
       " 'than': 73,\n",
       " 'over': 74,\n",
       " 'into': 75,\n",
       " 'last': 76,\n",
       " 'some': 77,\n",
       " 'government': 78,\n",
       " 'time': 79,\n",
       " '$': 80,\n",
       " 'you': 81,\n",
       " 'years': 82,\n",
       " 'if': 83,\n",
       " 'no': 84,\n",
       " 'world': 85,\n",
       " 'can': 86,\n",
       " 'three': 87,\n",
       " 'do': 88,\n",
       " ';': 89,\n",
       " 'president': 90,\n",
       " 'only': 91,\n",
       " 'state': 92,\n",
       " 'million': 93,\n",
       " 'could': 94,\n",
       " 'us': 95,\n",
       " 'most': 96,\n",
       " '_': 97,\n",
       " 'against': 98,\n",
       " 'u.s.': 99,\n",
       " 'so': 100,\n",
       " 'them': 101,\n",
       " 'what': 102,\n",
       " 'him': 103,\n",
       " 'united': 104,\n",
       " 'during': 105,\n",
       " 'before': 106,\n",
       " 'may': 107,\n",
       " 'since': 108,\n",
       " 'many': 109,\n",
       " 'while': 110,\n",
       " 'where': 111,\n",
       " 'states': 112,\n",
       " 'because': 113,\n",
       " 'now': 114,\n",
       " 'city': 115,\n",
       " 'made': 116,\n",
       " 'like': 117,\n",
       " 'between': 118,\n",
       " 'did': 119,\n",
       " 'just': 120,\n",
       " 'national': 121,\n",
       " 'day': 122,\n",
       " 'country': 123,\n",
       " 'under': 124,\n",
       " 'such': 125,\n",
       " 'second': 126,\n",
       " 'then': 127,\n",
       " 'company': 128,\n",
       " 'group': 129,\n",
       " 'any': 130,\n",
       " 'through': 131,\n",
       " 'china': 132,\n",
       " 'four': 133,\n",
       " 'being': 134,\n",
       " 'down': 135,\n",
       " 'war': 136,\n",
       " 'back': 137,\n",
       " 'off': 138,\n",
       " 'south': 139,\n",
       " 'american': 140,\n",
       " 'minister': 141,\n",
       " 'police': 142,\n",
       " 'well': 143,\n",
       " 'including': 144,\n",
       " 'team': 145,\n",
       " 'international': 146,\n",
       " 'week': 147,\n",
       " 'officials': 148,\n",
       " 'still': 149,\n",
       " 'both': 150,\n",
       " 'even': 151,\n",
       " 'high': 152,\n",
       " 'part': 153,\n",
       " 'told': 154,\n",
       " 'those': 155,\n",
       " 'end': 156,\n",
       " 'former': 157,\n",
       " 'these': 158,\n",
       " 'make': 159,\n",
       " 'billion': 160,\n",
       " 'work': 161,\n",
       " 'our': 162,\n",
       " 'home': 163,\n",
       " 'school': 164,\n",
       " 'party': 165,\n",
       " 'house': 166,\n",
       " 'old': 167,\n",
       " 'later': 168,\n",
       " 'get': 169,\n",
       " 'another': 170,\n",
       " 'tuesday': 171,\n",
       " 'news': 172,\n",
       " 'long': 173,\n",
       " 'five': 174,\n",
       " 'called': 175,\n",
       " '1': 176,\n",
       " 'wednesday': 177,\n",
       " 'military': 178,\n",
       " 'way': 179,\n",
       " 'used': 180,\n",
       " 'much': 181,\n",
       " 'next': 182,\n",
       " 'monday': 183,\n",
       " 'thursday': 184,\n",
       " 'friday': 185,\n",
       " 'game': 186,\n",
       " 'here': 187,\n",
       " '?': 188,\n",
       " 'should': 189,\n",
       " 'take': 190,\n",
       " 'very': 191,\n",
       " 'my': 192,\n",
       " 'north': 193,\n",
       " 'security': 194,\n",
       " 'season': 195,\n",
       " 'york': 196,\n",
       " 'how': 197,\n",
       " 'public': 198,\n",
       " 'early': 199,\n",
       " 'according': 200,\n",
       " 'several': 201,\n",
       " 'court': 202,\n",
       " 'say': 203,\n",
       " 'around': 204,\n",
       " 'foreign': 205,\n",
       " '10': 206,\n",
       " 'until': 207,\n",
       " 'set': 208,\n",
       " 'political': 209,\n",
       " 'says': 210,\n",
       " 'market': 211,\n",
       " 'however': 212,\n",
       " 'family': 213,\n",
       " 'life': 214,\n",
       " 'same': 215,\n",
       " 'general': 216,\n",
       " '–': 217,\n",
       " 'left': 218,\n",
       " 'good': 219,\n",
       " 'top': 220,\n",
       " 'university': 221,\n",
       " 'going': 222,\n",
       " 'number': 223,\n",
       " 'major': 224,\n",
       " 'known': 225,\n",
       " 'points': 226,\n",
       " 'won': 227,\n",
       " 'six': 228,\n",
       " 'month': 229,\n",
       " 'dollars': 230,\n",
       " 'bank': 231,\n",
       " '2': 232,\n",
       " 'iraq': 233,\n",
       " 'use': 234,\n",
       " 'members': 235,\n",
       " 'each': 236,\n",
       " 'area': 237,\n",
       " 'found': 238,\n",
       " 'official': 239,\n",
       " 'sunday': 240,\n",
       " 'place': 241,\n",
       " 'go': 242,\n",
       " 'based': 243,\n",
       " 'among': 244,\n",
       " 'third': 245,\n",
       " 'times': 246,\n",
       " 'took': 247,\n",
       " 'right': 248,\n",
       " 'days': 249,\n",
       " 'local': 250,\n",
       " 'economic': 251,\n",
       " 'countries': 252,\n",
       " 'see': 253,\n",
       " 'best': 254,\n",
       " 'report': 255,\n",
       " 'killed': 256,\n",
       " 'held': 257,\n",
       " 'business': 258,\n",
       " 'west': 259,\n",
       " 'does': 260,\n",
       " 'own': 261,\n",
       " '%': 262,\n",
       " 'came': 263,\n",
       " 'law': 264,\n",
       " 'months': 265,\n",
       " 'women': 266,\n",
       " \"'re\": 267,\n",
       " 'power': 268,\n",
       " 'think': 269,\n",
       " 'service': 270,\n",
       " 'children': 271,\n",
       " 'bush': 272,\n",
       " 'show': 273,\n",
       " '/': 274,\n",
       " 'help': 275,\n",
       " 'chief': 276,\n",
       " 'saturday': 277,\n",
       " 'system': 278,\n",
       " 'john': 279,\n",
       " 'support': 280,\n",
       " 'series': 281,\n",
       " 'play': 282,\n",
       " 'office': 283,\n",
       " 'following': 284,\n",
       " 'me': 285,\n",
       " 'meeting': 286,\n",
       " 'expected': 287,\n",
       " 'late': 288,\n",
       " 'washington': 289,\n",
       " 'games': 290,\n",
       " 'european': 291,\n",
       " 'league': 292,\n",
       " 'reported': 293,\n",
       " 'final': 294,\n",
       " 'added': 295,\n",
       " 'without': 296,\n",
       " 'british': 297,\n",
       " 'white': 298,\n",
       " 'history': 299,\n",
       " 'man': 300,\n",
       " 'men': 301,\n",
       " 'became': 302,\n",
       " 'want': 303,\n",
       " 'march': 304,\n",
       " 'case': 305,\n",
       " 'few': 306,\n",
       " 'run': 307,\n",
       " 'money': 308,\n",
       " 'began': 309,\n",
       " 'open': 310,\n",
       " 'name': 311,\n",
       " 'trade': 312,\n",
       " 'center': 313,\n",
       " '3': 314,\n",
       " 'israel': 315,\n",
       " 'oil': 316,\n",
       " 'too': 317,\n",
       " 'al': 318,\n",
       " 'film': 319,\n",
       " 'win': 320,\n",
       " 'led': 321,\n",
       " 'east': 322,\n",
       " 'central': 323,\n",
       " '20': 324,\n",
       " 'air': 325,\n",
       " 'come': 326,\n",
       " 'chinese': 327,\n",
       " 'town': 328,\n",
       " 'leader': 329,\n",
       " 'army': 330,\n",
       " 'line': 331,\n",
       " 'never': 332,\n",
       " 'little': 333,\n",
       " 'played': 334,\n",
       " 'prime': 335,\n",
       " 'death': 336,\n",
       " 'companies': 337,\n",
       " 'least': 338,\n",
       " 'put': 339,\n",
       " 'forces': 340,\n",
       " 'past': 341,\n",
       " 'de': 342,\n",
       " 'half': 343,\n",
       " 'june': 344,\n",
       " 'saying': 345,\n",
       " 'know': 346,\n",
       " 'federal': 347,\n",
       " 'french': 348,\n",
       " 'peace': 349,\n",
       " 'earlier': 350,\n",
       " 'capital': 351,\n",
       " 'force': 352,\n",
       " 'great': 353,\n",
       " 'union': 354,\n",
       " 'near': 355,\n",
       " 'released': 356,\n",
       " 'small': 357,\n",
       " 'department': 358,\n",
       " 'every': 359,\n",
       " 'health': 360,\n",
       " 'japan': 361,\n",
       " 'head': 362,\n",
       " 'ago': 363,\n",
       " 'night': 364,\n",
       " 'big': 365,\n",
       " 'cup': 366,\n",
       " 'election': 367,\n",
       " 'region': 368,\n",
       " 'director': 369,\n",
       " 'talks': 370,\n",
       " 'program': 371,\n",
       " 'far': 372,\n",
       " 'today': 373,\n",
       " 'statement': 374,\n",
       " 'july': 375,\n",
       " 'although': 376,\n",
       " 'district': 377,\n",
       " 'again': 378,\n",
       " 'born': 379,\n",
       " 'development': 380,\n",
       " 'leaders': 381,\n",
       " 'council': 382,\n",
       " 'close': 383,\n",
       " 'record': 384,\n",
       " 'along': 385,\n",
       " 'county': 386,\n",
       " 'france': 387,\n",
       " 'went': 388,\n",
       " 'point': 389,\n",
       " 'must': 390,\n",
       " 'spokesman': 391,\n",
       " 'your': 392,\n",
       " 'member': 393,\n",
       " 'plan': 394,\n",
       " 'financial': 395,\n",
       " 'april': 396,\n",
       " 'recent': 397,\n",
       " 'campaign': 398,\n",
       " 'become': 399,\n",
       " 'troops': 400,\n",
       " 'whether': 401,\n",
       " 'lost': 402,\n",
       " 'music': 403,\n",
       " '15': 404,\n",
       " 'got': 405,\n",
       " 'israeli': 406,\n",
       " '30': 407,\n",
       " 'need': 408,\n",
       " '4': 409,\n",
       " 'lead': 410,\n",
       " 'already': 411,\n",
       " 'russia': 412,\n",
       " 'though': 413,\n",
       " 'might': 414,\n",
       " 'free': 415,\n",
       " 'hit': 416,\n",
       " 'rights': 417,\n",
       " '11': 418,\n",
       " 'information': 419,\n",
       " 'away': 420,\n",
       " '12': 421,\n",
       " '5': 422,\n",
       " 'others': 423,\n",
       " 'control': 424,\n",
       " 'within': 425,\n",
       " 'large': 426,\n",
       " 'economy': 427,\n",
       " 'press': 428,\n",
       " 'agency': 429,\n",
       " 'water': 430,\n",
       " 'died': 431,\n",
       " 'career': 432,\n",
       " 'making': 433,\n",
       " '...': 434,\n",
       " 'deal': 435,\n",
       " 'attack': 436,\n",
       " 'side': 437,\n",
       " 'seven': 438,\n",
       " 'better': 439,\n",
       " 'less': 440,\n",
       " 'september': 441,\n",
       " 'once': 442,\n",
       " 'clinton': 443,\n",
       " 'main': 444,\n",
       " 'due': 445,\n",
       " 'committee': 446,\n",
       " 'building': 447,\n",
       " 'conference': 448,\n",
       " 'club': 449,\n",
       " 'january': 450,\n",
       " 'decision': 451,\n",
       " 'stock': 452,\n",
       " 'america': 453,\n",
       " 'given': 454,\n",
       " 'give': 455,\n",
       " 'often': 456,\n",
       " 'announced': 457,\n",
       " 'television': 458,\n",
       " 'industry': 459,\n",
       " 'order': 460,\n",
       " 'young': 461,\n",
       " \"'ve\": 462,\n",
       " 'palestinian': 463,\n",
       " 'age': 464,\n",
       " 'start': 465,\n",
       " 'administration': 466,\n",
       " 'russian': 467,\n",
       " 'prices': 468,\n",
       " 'round': 469,\n",
       " 'december': 470,\n",
       " 'nations': 471,\n",
       " \"'m\": 472,\n",
       " 'human': 473,\n",
       " 'india': 474,\n",
       " 'defense': 475,\n",
       " 'asked': 476,\n",
       " 'total': 477,\n",
       " 'october': 478,\n",
       " 'players': 479,\n",
       " 'bill': 480,\n",
       " 'important': 481,\n",
       " 'southern': 482,\n",
       " 'move': 483,\n",
       " 'fire': 484,\n",
       " 'population': 485,\n",
       " 'rose': 486,\n",
       " 'november': 487,\n",
       " 'include': 488,\n",
       " 'further': 489,\n",
       " 'nuclear': 490,\n",
       " 'street': 491,\n",
       " 'taken': 492,\n",
       " 'media': 493,\n",
       " 'different': 494,\n",
       " 'issue': 495,\n",
       " 'received': 496,\n",
       " 'secretary': 497,\n",
       " 'return': 498,\n",
       " 'college': 499,\n",
       " 'working': 500,\n",
       " 'community': 501,\n",
       " 'eight': 502,\n",
       " 'groups': 503,\n",
       " 'despite': 504,\n",
       " 'level': 505,\n",
       " 'largest': 506,\n",
       " 'whose': 507,\n",
       " 'attacks': 508,\n",
       " 'germany': 509,\n",
       " 'august': 510,\n",
       " 'change': 511,\n",
       " 'church': 512,\n",
       " 'nation': 513,\n",
       " 'german': 514,\n",
       " 'station': 515,\n",
       " 'london': 516,\n",
       " 'weeks': 517,\n",
       " 'having': 518,\n",
       " '18': 519,\n",
       " 'research': 520,\n",
       " 'black': 521,\n",
       " 'services': 522,\n",
       " 'story': 523,\n",
       " '6': 524,\n",
       " 'europe': 525,\n",
       " 'sales': 526,\n",
       " 'policy': 527,\n",
       " 'visit': 528,\n",
       " 'northern': 529,\n",
       " 'lot': 530,\n",
       " 'across': 531,\n",
       " 'per': 532,\n",
       " 'current': 533,\n",
       " 'board': 534,\n",
       " 'football': 535,\n",
       " 'ministry': 536,\n",
       " 'workers': 537,\n",
       " 'vote': 538,\n",
       " 'book': 539,\n",
       " 'fell': 540,\n",
       " 'seen': 541,\n",
       " 'role': 542,\n",
       " 'students': 543,\n",
       " 'shares': 544,\n",
       " 'iran': 545,\n",
       " 'process': 546,\n",
       " 'agreement': 547,\n",
       " 'quarter': 548,\n",
       " 'full': 549,\n",
       " 'match': 550,\n",
       " 'started': 551,\n",
       " 'growth': 552,\n",
       " 'yet': 553,\n",
       " 'moved': 554,\n",
       " 'possible': 555,\n",
       " 'western': 556,\n",
       " 'special': 557,\n",
       " '100': 558,\n",
       " 'plans': 559,\n",
       " 'interest': 560,\n",
       " 'behind': 561,\n",
       " 'strong': 562,\n",
       " 'england': 563,\n",
       " 'named': 564,\n",
       " 'food': 565,\n",
       " 'period': 566,\n",
       " 'real': 567,\n",
       " 'authorities': 568,\n",
       " 'car': 569,\n",
       " 'term': 570,\n",
       " 'rate': 571,\n",
       " 'race': 572,\n",
       " 'nearly': 573,\n",
       " 'korea': 574,\n",
       " 'enough': 575,\n",
       " 'site': 576,\n",
       " 'opposition': 577,\n",
       " 'keep': 578,\n",
       " '25': 579,\n",
       " 'call': 580,\n",
       " 'future': 581,\n",
       " 'taking': 582,\n",
       " 'island': 583,\n",
       " '2008': 584,\n",
       " '2006': 585,\n",
       " 'road': 586,\n",
       " 'outside': 587,\n",
       " 'really': 588,\n",
       " 'century': 589,\n",
       " 'democratic': 590,\n",
       " 'almost': 591,\n",
       " 'single': 592,\n",
       " 'share': 593,\n",
       " 'leading': 594,\n",
       " 'trying': 595,\n",
       " 'find': 596,\n",
       " 'album': 597,\n",
       " 'senior': 598,\n",
       " 'minutes': 599,\n",
       " 'together': 600,\n",
       " 'congress': 601,\n",
       " 'index': 602,\n",
       " 'australia': 603,\n",
       " 'results': 604,\n",
       " 'hard': 605,\n",
       " 'hours': 606,\n",
       " 'land': 607,\n",
       " 'action': 608,\n",
       " 'higher': 609,\n",
       " 'field': 610,\n",
       " 'cut': 611,\n",
       " 'coach': 612,\n",
       " 'elections': 613,\n",
       " 'san': 614,\n",
       " 'issues': 615,\n",
       " 'executive': 616,\n",
       " 'february': 617,\n",
       " 'production': 618,\n",
       " 'areas': 619,\n",
       " 'river': 620,\n",
       " 'face': 621,\n",
       " 'using': 622,\n",
       " 'japanese': 623,\n",
       " 'province': 624,\n",
       " 'park': 625,\n",
       " 'price': 626,\n",
       " 'commission': 627,\n",
       " 'california': 628,\n",
       " 'father': 629,\n",
       " 'son': 630,\n",
       " 'education': 631,\n",
       " '7': 632,\n",
       " 'village': 633,\n",
       " 'energy': 634,\n",
       " 'shot': 635,\n",
       " 'short': 636,\n",
       " 'africa': 637,\n",
       " 'key': 638,\n",
       " 'red': 639,\n",
       " 'association': 640,\n",
       " 'average': 641,\n",
       " 'pay': 642,\n",
       " 'exchange': 643,\n",
       " 'eu': 644,\n",
       " 'something': 645,\n",
       " 'gave': 646,\n",
       " 'likely': 647,\n",
       " 'player': 648,\n",
       " 'george': 649,\n",
       " '2007': 650,\n",
       " 'victory': 651,\n",
       " '8': 652,\n",
       " 'low': 653,\n",
       " 'things': 654,\n",
       " '2010': 655,\n",
       " 'pakistan': 656,\n",
       " '14': 657,\n",
       " 'post': 658,\n",
       " 'social': 659,\n",
       " 'continue': 660,\n",
       " 'ever': 661,\n",
       " 'look': 662,\n",
       " 'chairman': 663,\n",
       " 'job': 664,\n",
       " '2000': 665,\n",
       " 'soldiers': 666,\n",
       " 'able': 667,\n",
       " 'parliament': 668,\n",
       " 'front': 669,\n",
       " 'himself': 670,\n",
       " 'problems': 671,\n",
       " 'private': 672,\n",
       " 'lower': 673,\n",
       " 'list': 674,\n",
       " 'built': 675,\n",
       " '13': 676,\n",
       " 'efforts': 677,\n",
       " 'dollar': 678,\n",
       " 'miles': 679,\n",
       " 'included': 680,\n",
       " 'radio': 681,\n",
       " 'live': 682,\n",
       " 'form': 683,\n",
       " 'david': 684,\n",
       " 'african': 685,\n",
       " 'increase': 686,\n",
       " 'reports': 687,\n",
       " 'sent': 688,\n",
       " 'fourth': 689,\n",
       " 'always': 690,\n",
       " 'king': 691,\n",
       " '50': 692,\n",
       " 'tax': 693,\n",
       " 'taiwan': 694,\n",
       " 'britain': 695,\n",
       " '16': 696,\n",
       " 'playing': 697,\n",
       " 'title': 698,\n",
       " 'middle': 699,\n",
       " 'meet': 700,\n",
       " 'global': 701,\n",
       " 'wife': 702,\n",
       " '2009': 703,\n",
       " 'position': 704,\n",
       " 'located': 705,\n",
       " 'clear': 706,\n",
       " 'ahead': 707,\n",
       " '2004': 708,\n",
       " '2005': 709,\n",
       " 'iraqi': 710,\n",
       " 'english': 711,\n",
       " 'result': 712,\n",
       " 'release': 713,\n",
       " 'violence': 714,\n",
       " 'goal': 715,\n",
       " 'project': 716,\n",
       " 'closed': 717,\n",
       " 'border': 718,\n",
       " 'body': 719,\n",
       " 'soon': 720,\n",
       " 'crisis': 721,\n",
       " 'division': 722,\n",
       " '&amp;': 723,\n",
       " 'served': 724,\n",
       " 'tour': 725,\n",
       " 'hospital': 726,\n",
       " 'kong': 727,\n",
       " 'test': 728,\n",
       " 'hong': 729,\n",
       " 'u.n.': 730,\n",
       " 'inc.': 731,\n",
       " 'technology': 732,\n",
       " 'believe': 733,\n",
       " 'organization': 734,\n",
       " 'published': 735,\n",
       " 'weapons': 736,\n",
       " 'agreed': 737,\n",
       " 'why': 738,\n",
       " 'nine': 739,\n",
       " 'summer': 740,\n",
       " 'wanted': 741,\n",
       " 'republican': 742,\n",
       " 'act': 743,\n",
       " 'recently': 744,\n",
       " 'texas': 745,\n",
       " 'course': 746,\n",
       " 'problem': 747,\n",
       " 'senate': 748,\n",
       " 'medical': 749,\n",
       " 'un': 750,\n",
       " 'done': 751,\n",
       " 'reached': 752,\n",
       " 'star': 753,\n",
       " 'continued': 754,\n",
       " 'investors': 755,\n",
       " 'living': 756,\n",
       " 'care': 757,\n",
       " 'signed': 758,\n",
       " '17': 759,\n",
       " 'art': 760,\n",
       " 'provide': 761,\n",
       " 'worked': 762,\n",
       " 'presidential': 763,\n",
       " 'gold': 764,\n",
       " 'obama': 765,\n",
       " 'morning': 766,\n",
       " 'dead': 767,\n",
       " 'opened': 768,\n",
       " \"'ll\": 769,\n",
       " 'event': 770,\n",
       " 'previous': 771,\n",
       " 'cost': 772,\n",
       " 'instead': 773,\n",
       " 'canada': 774,\n",
       " 'band': 775,\n",
       " 'teams': 776,\n",
       " 'daily': 777,\n",
       " '2001': 778,\n",
       " 'available': 779,\n",
       " 'drug': 780,\n",
       " 'coming': 781,\n",
       " '2003': 782,\n",
       " 'investment': 783,\n",
       " '’s': 784,\n",
       " 'michael': 785,\n",
       " 'civil': 786,\n",
       " 'woman': 787,\n",
       " 'training': 788,\n",
       " 'appeared': 789,\n",
       " '9': 790,\n",
       " 'involved': 791,\n",
       " 'indian': 792,\n",
       " 'similar': 793,\n",
       " 'situation': 794,\n",
       " '24': 795,\n",
       " 'los': 796,\n",
       " 'running': 797,\n",
       " 'fighting': 798,\n",
       " 'mark': 799,\n",
       " '40': 800,\n",
       " 'trial': 801,\n",
       " 'hold': 802,\n",
       " 'australian': 803,\n",
       " 'thought': 804,\n",
       " '!': 805,\n",
       " 'study': 806,\n",
       " 'fall': 807,\n",
       " 'mother': 808,\n",
       " 'met': 809,\n",
       " 'relations': 810,\n",
       " 'anti': 811,\n",
       " '2002': 812,\n",
       " 'song': 813,\n",
       " 'popular': 814,\n",
       " 'base': 815,\n",
       " 'tv': 816,\n",
       " 'ground': 817,\n",
       " 'markets': 818,\n",
       " 'ii': 819,\n",
       " 'newspaper': 820,\n",
       " 'staff': 821,\n",
       " 'saw': 822,\n",
       " 'hand': 823,\n",
       " 'hope': 824,\n",
       " 'operations': 825,\n",
       " 'pressure': 826,\n",
       " 'americans': 827,\n",
       " 'eastern': 828,\n",
       " 'st.': 829,\n",
       " 'legal': 830,\n",
       " 'asia': 831,\n",
       " 'budget': 832,\n",
       " 'returned': 833,\n",
       " 'considered': 834,\n",
       " 'love': 835,\n",
       " 'wrote': 836,\n",
       " 'stop': 837,\n",
       " 'fight': 838,\n",
       " 'currently': 839,\n",
       " 'charges': 840,\n",
       " 'try': 841,\n",
       " 'aid': 842,\n",
       " 'ended': 843,\n",
       " 'management': 844,\n",
       " 'brought': 845,\n",
       " 'cases': 846,\n",
       " 'decided': 847,\n",
       " 'failed': 848,\n",
       " 'network': 849,\n",
       " 'works': 850,\n",
       " 'gas': 851,\n",
       " 'turned': 852,\n",
       " 'fact': 853,\n",
       " 'vice': 854,\n",
       " 'ca': 855,\n",
       " 'mexico': 856,\n",
       " 'trading': 857,\n",
       " 'especially': 858,\n",
       " 'reporters': 859,\n",
       " 'afghanistan': 860,\n",
       " 'common': 861,\n",
       " 'looking': 862,\n",
       " 'space': 863,\n",
       " 'rates': 864,\n",
       " 'manager': 865,\n",
       " 'loss': 866,\n",
       " '2011': 867,\n",
       " 'justice': 868,\n",
       " 'thousands': 869,\n",
       " 'james': 870,\n",
       " 'rather': 871,\n",
       " 'fund': 872,\n",
       " 'thing': 873,\n",
       " 'republic': 874,\n",
       " 'opening': 875,\n",
       " 'accused': 876,\n",
       " 'winning': 877,\n",
       " 'scored': 878,\n",
       " 'championship': 879,\n",
       " 'example': 880,\n",
       " 'getting': 881,\n",
       " 'biggest': 882,\n",
       " 'performance': 883,\n",
       " 'sports': 884,\n",
       " '1998': 885,\n",
       " 'let': 886,\n",
       " 'allowed': 887,\n",
       " 'schools': 888,\n",
       " 'means': 889,\n",
       " 'turn': 890,\n",
       " 'leave': 891,\n",
       " 'no.': 892,\n",
       " 'robert': 893,\n",
       " 'personal': 894,\n",
       " 'stocks': 895,\n",
       " 'showed': 896,\n",
       " 'light': 897,\n",
       " 'arrested': 898,\n",
       " 'person': 899,\n",
       " 'either': 900,\n",
       " 'offer': 901,\n",
       " 'majority': 902,\n",
       " 'battle': 903,\n",
       " '19': 904,\n",
       " 'class': 905,\n",
       " 'evidence': 906,\n",
       " 'makes': 907,\n",
       " 'society': 908,\n",
       " 'products': 909,\n",
       " 'regional': 910,\n",
       " 'needed': 911,\n",
       " 'stage': 912,\n",
       " 'am': 913,\n",
       " 'doing': 914,\n",
       " 'families': 915,\n",
       " 'construction': 916,\n",
       " 'various': 917,\n",
       " '1996': 918,\n",
       " 'sold': 919,\n",
       " 'independent': 920,\n",
       " 'kind': 921,\n",
       " 'airport': 922,\n",
       " 'paul': 923,\n",
       " 'judge': 924,\n",
       " 'internet': 925,\n",
       " 'movement': 926,\n",
       " 'room': 927,\n",
       " 'followed': 928,\n",
       " 'original': 929,\n",
       " 'angeles': 930,\n",
       " 'italy': 931,\n",
       " '`': 932,\n",
       " 'data': 933,\n",
       " 'comes': 934,\n",
       " 'parties': 935,\n",
       " 'nothing': 936,\n",
       " 'sea': 937,\n",
       " 'bring': 938,\n",
       " '2012': 939,\n",
       " 'annual': 940,\n",
       " 'officer': 941,\n",
       " 'beijing': 942,\n",
       " 'present': 943,\n",
       " 'remain': 944,\n",
       " 'nato': 945,\n",
       " '1999': 946,\n",
       " '22': 947,\n",
       " 'remains': 948,\n",
       " 'allow': 949,\n",
       " 'florida': 950,\n",
       " 'computer': 951,\n",
       " '21': 952,\n",
       " 'contract': 953,\n",
       " 'coast': 954,\n",
       " 'created': 955,\n",
       " 'demand': 956,\n",
       " 'operation': 957,\n",
       " 'events': 958,\n",
       " 'islamic': 959,\n",
       " 'beat': 960,\n",
       " 'analysts': 961,\n",
       " 'interview': 962,\n",
       " 'helped': 963,\n",
       " 'child': 964,\n",
       " 'probably': 965,\n",
       " 'spent': 966,\n",
       " 'asian': 967,\n",
       " 'effort': 968,\n",
       " 'cooperation': 969,\n",
       " 'shows': 970,\n",
       " 'calls': 971,\n",
       " 'investigation': 972,\n",
       " 'lives': 973,\n",
       " 'video': 974,\n",
       " 'yen': 975,\n",
       " 'runs': 976,\n",
       " 'tried': 977,\n",
       " 'bad': 978,\n",
       " 'described': 979,\n",
       " '1994': 980,\n",
       " 'toward': 981,\n",
       " 'written': 982,\n",
       " 'throughout': 983,\n",
       " 'established': 984,\n",
       " 'mission': 985,\n",
       " 'associated': 986,\n",
       " 'buy': 987,\n",
       " 'growing': 988,\n",
       " 'green': 989,\n",
       " 'forward': 990,\n",
       " 'competition': 991,\n",
       " 'poor': 992,\n",
       " 'latest': 993,\n",
       " 'banks': 994,\n",
       " 'question': 995,\n",
       " '1997': 996,\n",
       " 'prison': 997,\n",
       " 'feel': 998,\n",
       " 'attention': 999,\n",
       " ...}"
      ]
     },
     "execution_count": 268,
     "metadata": {},
     "output_type": "execute_result"
    }
   ],
   "source": [
    "word_to_count"
   ]
  },
  {
   "cell_type": "code",
   "execution_count": 179,
   "metadata": {},
   "outputs": [],
   "source": [
    "train = [np.array([word_to_count[y] if y in word_to_count else vocab_size-1 for y in x]) for x in text]"
   ]
  },
  {
   "cell_type": "code",
   "execution_count": 180,
   "metadata": {},
   "outputs": [],
   "source": [
    "from tensorflow.keras.preprocessing.sequence import pad_sequences\n",
    "from tensorflow.keras.models import Sequential\n",
    "from tensorflow.keras.layers import Dense, Flatten, LSTM, Conv1D, MaxPooling1D, Dropout, Activation\n",
    "from tensorflow.keras.layers import Embedding"
   ]
  },
  {
   "cell_type": "code",
   "execution_count": 181,
   "metadata": {},
   "outputs": [],
   "source": [
    "train = pad_sequences(train, maxlen=seq_len, value=0)"
   ]
  },
  {
   "cell_type": "code",
   "execution_count": 182,
   "metadata": {},
   "outputs": [
    {
     "data": {
      "text/plain": [
       "(400000, 200)"
      ]
     },
     "execution_count": 182,
     "metadata": {},
     "output_type": "execute_result"
    }
   ],
   "source": [
    "train.shape"
   ]
  },
  {
   "cell_type": "code",
   "execution_count": 95,
   "metadata": {},
   "outputs": [],
   "source": [
    "train = train.astype('float32')"
   ]
  },
  {
   "cell_type": "code",
   "execution_count": 183,
   "metadata": {},
   "outputs": [],
   "source": [
    "from tensorflow.keras.utils import to_categorical"
   ]
  },
  {
   "cell_type": "code",
   "execution_count": 184,
   "metadata": {},
   "outputs": [],
   "source": [
    "from sklearn import preprocessing, metrics, naive_bayes, pipeline,feature_extraction"
   ]
  },
  {
   "cell_type": "code",
   "execution_count": 185,
   "metadata": {},
   "outputs": [
    {
     "data": {
      "text/plain": [
       "LabelEncoder()"
      ]
     },
     "execution_count": 185,
     "metadata": {},
     "output_type": "execute_result"
    }
   ],
   "source": [
    "le = preprocessing.LabelEncoder()\n",
    "le.fit(df.Category)"
   ]
  },
  {
   "cell_type": "code",
   "execution_count": 186,
   "metadata": {},
   "outputs": [],
   "source": [
    "X_data = df.Content.values"
   ]
  },
  {
   "cell_type": "code",
   "execution_count": 187,
   "metadata": {},
   "outputs": [],
   "source": [
    "y_data = le.transform(df.Category)"
   ]
  },
  {
   "cell_type": "code",
   "execution_count": 188,
   "metadata": {},
   "outputs": [
    {
     "data": {
      "text/plain": [
       "(791,)"
      ]
     },
     "execution_count": 188,
     "metadata": {},
     "output_type": "execute_result"
    }
   ],
   "source": [
    "X_data.shape"
   ]
  },
  {
   "cell_type": "code",
   "execution_count": 189,
   "metadata": {},
   "outputs": [
    {
     "data": {
      "text/plain": [
       "(791,)"
      ]
     },
     "execution_count": 189,
     "metadata": {},
     "output_type": "execute_result"
    }
   ],
   "source": [
    "y_data.shape"
   ]
  },
  {
   "cell_type": "code",
   "execution_count": 190,
   "metadata": {},
   "outputs": [],
   "source": [
    "from sklearn.model_selection import train_test_split"
   ]
  },
  {
   "cell_type": "code",
   "execution_count": 191,
   "metadata": {},
   "outputs": [],
   "source": [
    "y_data = to_categorical(y_data)"
   ]
  },
  {
   "cell_type": "code",
   "execution_count": 213,
   "metadata": {},
   "outputs": [],
   "source": [
    "X_train, X_test, y_train, y_test = train_test_split(train[:791], y_data, \\\n",
    "        test_size=0.2, random_state=2000)"
   ]
  },
  {
   "cell_type": "code",
   "execution_count": 214,
   "metadata": {},
   "outputs": [],
   "source": [
    "from tensorflow.keras.layers import Convolution1D"
   ]
  },
  {
   "cell_type": "code",
   "execution_count": 215,
   "metadata": {},
   "outputs": [],
   "source": [
    "from tensorflow.keras.layers import Flatten, Dense, Dropout, Lambda"
   ]
  },
  {
   "cell_type": "code",
   "execution_count": 216,
   "metadata": {},
   "outputs": [],
   "source": [
    "from tensorflow.keras.optimizers import Adam"
   ]
  },
  {
   "cell_type": "markdown",
   "metadata": {},
   "source": [
    "# Glove with CNN"
   ]
  },
  {
   "cell_type": "code",
   "execution_count": 217,
   "metadata": {},
   "outputs": [],
   "source": [
    "model = Sequential([\n",
    "        Embedding(vocab_size, 50, input_length=seq_len),\n",
    "        Dropout(0.1),\n",
    "        Convolution1D(64, 5, activation='relu'),\n",
    "        Dropout(0.2),\n",
    "        Convolution1D(128, 5,activation='relu'),\n",
    "        Dropout(0.2),\n",
    "        MaxPooling1D(),\n",
    "        Flatten(),\n",
    "        Dense(200, activation='relu'),\n",
    "        Dropout(0.3),\n",
    "        Dense(4, activation='softmax')])\n",
    "model.compile(loss='categorical_crossentropy', optimizer=Adam(), \\\n",
    "        metrics=['accuracy'])"
   ]
  },
  {
   "cell_type": "code",
   "execution_count": 218,
   "metadata": {},
   "outputs": [],
   "source": [
    "model.optimizer.lr = 1e-4"
   ]
  },
  {
   "cell_type": "code",
   "execution_count": 226,
   "metadata": {},
   "outputs": [
    {
     "name": "stderr",
     "output_type": "stream",
     "text": [
      "W1121 22:05:18.470777 11304 training.py:593] The `nb_epoch` argument in `fit` has been renamed `epochs`.\n"
     ]
    },
    {
     "name": "stdout",
     "output_type": "stream",
     "text": [
      "Train on 632 samples, validate on 159 samples\n",
      "Epoch 1/10\n",
      "632/632 [==============================] - 2s 3ms/sample - loss: 0.1741 - acc: 0.9351 - val_loss: 1.4904 - val_acc: 0.5283\n",
      "Epoch 2/10\n",
      "632/632 [==============================] - 2s 3ms/sample - loss: 0.1700 - acc: 0.9320 - val_loss: 1.4451 - val_acc: 0.5472\n",
      "Epoch 3/10\n",
      "632/632 [==============================] - 2s 3ms/sample - loss: 0.1805 - acc: 0.9320 - val_loss: 1.4913 - val_acc: 0.5346\n",
      "Epoch 4/10\n",
      "632/632 [==============================] - 2s 3ms/sample - loss: 0.1652 - acc: 0.9415 - val_loss: 1.4483 - val_acc: 0.5409\n",
      "Epoch 5/10\n",
      "632/632 [==============================] - 2s 3ms/sample - loss: 0.1761 - acc: 0.9399 - val_loss: 1.4686 - val_acc: 0.5283\n",
      "Epoch 6/10\n",
      "632/632 [==============================] - 2s 3ms/sample - loss: 0.1641 - acc: 0.9415 - val_loss: 1.4738 - val_acc: 0.5472\n",
      "Epoch 7/10\n",
      "632/632 [==============================] - 2s 3ms/sample - loss: 0.1539 - acc: 0.9351 - val_loss: 1.4816 - val_acc: 0.5409\n",
      "Epoch 8/10\n",
      "632/632 [==============================] - 2s 3ms/sample - loss: 0.1723 - acc: 0.9304 - val_loss: 1.4976 - val_acc: 0.5346\n",
      "Epoch 9/10\n",
      "632/632 [==============================] - 2s 3ms/sample - loss: 0.1766 - acc: 0.9367 - val_loss: 1.4816 - val_acc: 0.5409\n",
      "Epoch 10/10\n",
      "632/632 [==============================] - 2s 3ms/sample - loss: 0.1660 - acc: 0.9494 - val_loss: 1.5068 - val_acc: 0.5346\n"
     ]
    }
   ],
   "source": [
    "history=model.fit(X_train, y_train, validation_data=(X_test, y_test), nb_epoch=10, batch_size=64)"
   ]
  },
  {
   "cell_type": "code",
   "execution_count": 227,
   "metadata": {},
   "outputs": [
    {
     "name": "stdout",
     "output_type": "stream",
     "text": [
      "              precision    recall  f1-score   support\n",
      "\n",
      "    Academic       0.66      0.62      0.64        40\n",
      "  Automobile       0.42      0.37      0.40        46\n",
      "     Banking       0.68      0.64      0.66        44\n",
      "    Computer       0.38      0.52      0.43        29\n",
      "\n",
      "    accuracy                           0.53       159\n",
      "   macro avg       0.54      0.54      0.53       159\n",
      "weighted avg       0.55      0.53      0.54       159\n",
      "\n"
     ]
    }
   ],
   "source": [
    "preds = [np.argmax(x) for x in model.predict(X_test)]\n",
    "y_test_argmax = [np.argmax(x) for x in y_test]\n",
    "print(metrics.classification_report(preds, y_test_argmax, target_names=le.classes_))"
   ]
  },
  {
   "cell_type": "markdown",
   "metadata": {},
   "source": [
    "# Glove with  LSTM"
   ]
  },
  {
   "cell_type": "code",
   "execution_count": 119,
   "metadata": {},
   "outputs": [],
   "source": [
    "from tensorflow.keras.layers import SpatialDropout1D"
   ]
  },
  {
   "cell_type": "code",
   "execution_count": 122,
   "metadata": {},
   "outputs": [],
   "source": [
    "mode2 = Sequential([\n",
    "        Embedding(vocab_size, 50, input_length=seq_len),\n",
    "        SpatialDropout1D(0.2),\n",
    "        LSTM(100, dropout=0.2, recurrent_dropout=0.2),\n",
    "        Dense(4, activation='softmax')])\n",
    "mode2.compile(loss='categorical_crossentropy', optimizer=Adam(), \\\n",
    "        metrics=['accuracy'])"
   ]
  },
  {
   "cell_type": "code",
   "execution_count": 232,
   "metadata": {},
   "outputs": [
    {
     "name": "stderr",
     "output_type": "stream",
     "text": [
      "W1121 22:29:25.839931 11304 training.py:593] The `nb_epoch` argument in `fit` has been renamed `epochs`.\n"
     ]
    },
    {
     "name": "stdout",
     "output_type": "stream",
     "text": [
      "Train on 632 samples, validate on 159 samples\n",
      "Epoch 1/15\n",
      "632/632 [==============================] - 8s 12ms/sample - loss: 0.3194 - acc: 0.9256 - val_loss: 0.9981 - val_acc: 0.5975\n",
      "Epoch 2/15\n",
      "632/632 [==============================] - 7s 11ms/sample - loss: 0.2772 - acc: 0.9241 - val_loss: 1.0186 - val_acc: 0.5912\n",
      "Epoch 3/15\n",
      "632/632 [==============================] - 7s 12ms/sample - loss: 0.2410 - acc: 0.9367 - val_loss: 1.0510 - val_acc: 0.5786\n",
      "Epoch 4/15\n",
      "632/632 [==============================] - 7s 11ms/sample - loss: 0.2612 - acc: 0.9241 - val_loss: 1.0634 - val_acc: 0.5849\n",
      "Epoch 5/15\n",
      "632/632 [==============================] - 8s 13ms/sample - loss: 0.2184 - acc: 0.9241 - val_loss: 1.0539 - val_acc: 0.5597\n",
      "Epoch 6/15\n",
      "632/632 [==============================] - 7s 12ms/sample - loss: 0.2160 - acc: 0.9288 - val_loss: 1.0657 - val_acc: 0.5535\n",
      "Epoch 7/15\n",
      "632/632 [==============================] - 7s 11ms/sample - loss: 0.2006 - acc: 0.9288 - val_loss: 1.0792 - val_acc: 0.5472\n",
      "Epoch 8/15\n",
      "632/632 [==============================] - 10s 15ms/sample - loss: 0.1848 - acc: 0.9478 - val_loss: 1.0999 - val_acc: 0.5660\n",
      "Epoch 9/15\n",
      "632/632 [==============================] - 9s 14ms/sample - loss: 0.1692 - acc: 0.9462 - val_loss: 1.1164 - val_acc: 0.5849\n",
      "Epoch 10/15\n",
      "632/632 [==============================] - 9s 14ms/sample - loss: 0.1763 - acc: 0.9430 - val_loss: 1.1348 - val_acc: 0.5786\n",
      "Epoch 11/15\n",
      "632/632 [==============================] - 9s 14ms/sample - loss: 0.1625 - acc: 0.9462 - val_loss: 1.1569 - val_acc: 0.5723\n",
      "Epoch 12/15\n",
      "632/632 [==============================] - 13s 20ms/sample - loss: 0.1616 - acc: 0.9462 - val_loss: 1.1626 - val_acc: 0.5723\n",
      "Epoch 13/15\n",
      "632/632 [==============================] - 11s 17ms/sample - loss: 0.1591 - acc: 0.9525 - val_loss: 1.1787 - val_acc: 0.5786\n",
      "Epoch 14/15\n",
      "632/632 [==============================] - 18s 28ms/sample - loss: 0.1404 - acc: 0.9525 - val_loss: 1.2042 - val_acc: 0.5849\n",
      "Epoch 15/15\n",
      "632/632 [==============================] - 10s 15ms/sample - loss: 0.1513 - acc: 0.9430 - val_loss: 1.2235 - val_acc: 0.5786\n"
     ]
    }
   ],
   "source": [
    "history1=model1.fit(X_train, y_train, validation_data=(X_test, y_test), nb_epoch=15, batch_size=64)"
   ]
  },
  {
   "cell_type": "code",
   "execution_count": 233,
   "metadata": {},
   "outputs": [
    {
     "name": "stdout",
     "output_type": "stream",
     "text": [
      "              precision    recall  f1-score   support\n",
      "\n",
      "    Academic       0.66      0.76      0.70        33\n",
      "  Automobile       0.30      0.60      0.40        20\n",
      "     Banking       0.80      0.65      0.72        51\n",
      "    Computer       0.55      0.40      0.46        55\n",
      "\n",
      "    accuracy                           0.58       159\n",
      "   macro avg       0.58      0.60      0.57       159\n",
      "weighted avg       0.62      0.58      0.59       159\n",
      "\n"
     ]
    }
   ],
   "source": [
    "preds = [np.argmax(x) for x in model1.predict(X_test)]\n",
    "y_test_argmax = [np.argmax(x) for x in y_test]\n",
    "print(metrics.classification_report(preds, y_test_argmax, target_names=le.classes_))"
   ]
  },
  {
   "cell_type": "markdown",
   "metadata": {},
   "source": [
    "# Custom WF-257 model based on word vectors from current dataset"
   ]
  },
  {
   "cell_type": "code",
   "execution_count": 275,
   "metadata": {},
   "outputs": [],
   "source": [
    "words = [re.findall('[\\w]+', x) for x in df.Content]"
   ]
  },
  {
   "cell_type": "code",
   "execution_count": 276,
   "metadata": {},
   "outputs": [],
   "source": [
    "allwords = []\n",
    "for x in words:\n",
    "    allwords += x"
   ]
  },
  {
   "cell_type": "code",
   "execution_count": 277,
   "metadata": {},
   "outputs": [],
   "source": [
    "word_to_count = Counter(allwords).most_common(vocab_size)"
   ]
  },
  {
   "cell_type": "code",
   "execution_count": 278,
   "metadata": {},
   "outputs": [
    {
     "data": {
      "text/plain": [
       "[('title', 253),\n",
       " ('a', 155),\n",
       " ('href', 108),\n",
       " ('class', 101),\n",
       " ('span', 90),\n",
       " ('com', 69),\n",
       " ('p', 56),\n",
       " ('s', 42),\n",
       " ('strong', 41),\n",
       " ('www', 38)]"
      ]
     },
     "execution_count": 278,
     "metadata": {},
     "output_type": "execute_result"
    }
   ],
   "source": [
    "word_to_count[:10]"
   ]
  },
  {
   "cell_type": "code",
   "execution_count": 279,
   "metadata": {},
   "outputs": [],
   "source": [
    "word_to_count = {x[0]:i for i, x in enumerate(word_to_count)}"
   ]
  },
  {
   "cell_type": "code",
   "execution_count": 280,
   "metadata": {},
   "outputs": [],
   "source": [
    "train = [np.array([word_to_count[y] if y in word_to_count else vocab_size-1 for y in x]) for x in words]"
   ]
  },
  {
   "cell_type": "code",
   "execution_count": 281,
   "metadata": {},
   "outputs": [],
   "source": [
    "train = pad_sequences(train, maxlen=seq_len, value=0)"
   ]
  },
  {
   "cell_type": "code",
   "execution_count": 282,
   "metadata": {},
   "outputs": [],
   "source": [
    "train = train.astype('float32')"
   ]
  },
  {
   "cell_type": "code",
   "execution_count": 283,
   "metadata": {},
   "outputs": [],
   "source": [
    "from tensorflow.keras.utils import to_categorical"
   ]
  },
  {
   "cell_type": "code",
   "execution_count": 284,
   "metadata": {},
   "outputs": [],
   "source": [
    "from sklearn import preprocessing, metrics, naive_bayes, pipeline,feature_extraction"
   ]
  },
  {
   "cell_type": "code",
   "execution_count": 291,
   "metadata": {},
   "outputs": [],
   "source": [
    "X_data = df.Content.values"
   ]
  },
  {
   "cell_type": "code",
   "execution_count": 292,
   "metadata": {},
   "outputs": [],
   "source": [
    "y_data = le.transform(df.Category)"
   ]
  },
  {
   "cell_type": "code",
   "execution_count": 293,
   "metadata": {},
   "outputs": [],
   "source": [
    "y_data = to_categorical(y_data)"
   ]
  },
  {
   "cell_type": "code",
   "execution_count": 312,
   "metadata": {},
   "outputs": [],
   "source": [
    "X_train, X_test, y_train, y_test = train_test_split(train, y_data, test_size=0.2, random_state=500)"
   ]
  },
  {
   "cell_type": "code",
   "execution_count": 143,
   "metadata": {},
   "outputs": [],
   "source": [
    "from tensorflow.keras.layers import Convolution1D"
   ]
  },
  {
   "cell_type": "code",
   "execution_count": 144,
   "metadata": {},
   "outputs": [],
   "source": [
    "from tensorflow.keras.layers import Flatten, Dense, Dropout, Lambda"
   ]
  },
  {
   "cell_type": "markdown",
   "metadata": {},
   "source": [
    "# Custom WF-257 with CNN"
   ]
  },
  {
   "cell_type": "code",
   "execution_count": 145,
   "metadata": {},
   "outputs": [],
   "source": [
    "newmodel = Sequential([\n",
    "        Embedding(vocab_size, 50, input_length=seq_len),\n",
    "        Dropout(0.1),\n",
    "        Convolution1D(64, 5, activation='relu'),\n",
    "        Dropout(0.2),\n",
    "        Convolution1D(128, 5,activation='relu'),\n",
    "        Dropout(0.2),\n",
    "        MaxPooling1D(),\n",
    "        Flatten(),\n",
    "        Dense(200, activation='relu'),\n",
    "        Dropout(0.3),\n",
    "        Dense(4, activation='softmax')])\n",
    "newmodel.compile(loss='categorical_crossentropy', optimizer=Adam(), \\\n",
    "        metrics=['accuracy'])"
   ]
  },
  {
   "cell_type": "code",
   "execution_count": 146,
   "metadata": {},
   "outputs": [],
   "source": [
    "newmodel.optimizer.lr = 1e-4"
   ]
  },
  {
   "cell_type": "code",
   "execution_count": 172,
   "metadata": {},
   "outputs": [
    {
     "name": "stderr",
     "output_type": "stream",
     "text": [
      "W1124 16:45:27.694390 12792 training.py:593] The `nb_epoch` argument in `fit` has been renamed `epochs`.\n"
     ]
    },
    {
     "name": "stdout",
     "output_type": "stream",
     "text": [
      "Train on 632 samples, validate on 159 samples\n",
      "Epoch 1/15\n",
      "632/632 [==============================] - 2s 4ms/sample - loss: 0.1713 - acc: 0.9241 - val_loss: 1.3972 - val_acc: 0.5660\n",
      "Epoch 2/15\n",
      "632/632 [==============================] - 2s 4ms/sample - loss: 0.1697 - acc: 0.9225 - val_loss: 1.3706 - val_acc: 0.5660\n",
      "Epoch 3/15\n",
      "632/632 [==============================] - 2s 4ms/sample - loss: 0.1622 - acc: 0.9399 - val_loss: 1.3812 - val_acc: 0.5786\n",
      "Epoch 4/15\n",
      "632/632 [==============================] - 2s 4ms/sample - loss: 0.1622 - acc: 0.9288 - val_loss: 1.3968 - val_acc: 0.5597\n",
      "Epoch 5/15\n",
      "632/632 [==============================] - 2s 4ms/sample - loss: 0.1690 - acc: 0.9272 - val_loss: 1.3811 - val_acc: 0.5723\n",
      "Epoch 6/15\n",
      "632/632 [==============================] - 2s 4ms/sample - loss: 0.1772 - acc: 0.9304 - val_loss: 1.3875 - val_acc: 0.5660\n",
      "Epoch 7/15\n",
      "632/632 [==============================] - 2s 4ms/sample - loss: 0.1566 - acc: 0.9351 - val_loss: 1.4056 - val_acc: 0.5597\n",
      "Epoch 8/15\n",
      "632/632 [==============================] - 2s 4ms/sample - loss: 0.1422 - acc: 0.9478 - val_loss: 1.3955 - val_acc: 0.5597\n",
      "Epoch 9/15\n",
      "632/632 [==============================] - 2s 4ms/sample - loss: 0.1580 - acc: 0.9335 - val_loss: 1.4103 - val_acc: 0.5786\n",
      "Epoch 10/15\n",
      "632/632 [==============================] - 2s 4ms/sample - loss: 0.1659 - acc: 0.9367 - val_loss: 1.4186 - val_acc: 0.5723\n",
      "Epoch 11/15\n",
      "632/632 [==============================] - 2s 4ms/sample - loss: 0.1592 - acc: 0.9415 - val_loss: 1.4159 - val_acc: 0.5660\n",
      "Epoch 12/15\n",
      "632/632 [==============================] - 2s 4ms/sample - loss: 0.1665 - acc: 0.9351 - val_loss: 1.4254 - val_acc: 0.5723\n",
      "Epoch 13/15\n",
      "632/632 [==============================] - 2s 4ms/sample - loss: 0.1558 - acc: 0.9351 - val_loss: 1.4133 - val_acc: 0.5723\n",
      "Epoch 14/15\n",
      "632/632 [==============================] - 2s 4ms/sample - loss: 0.1620 - acc: 0.9304 - val_loss: 1.4273 - val_acc: 0.5786\n",
      "Epoch 15/15\n",
      "632/632 [==============================] - 2s 4ms/sample - loss: 0.1683 - acc: 0.9320 - val_loss: 1.4282 - val_acc: 0.5660\n"
     ]
    },
    {
     "data": {
      "text/plain": [
       "<tensorflow.python.keras.callbacks.History at 0x2a2c59aa828>"
      ]
     },
     "execution_count": 172,
     "metadata": {},
     "output_type": "execute_result"
    }
   ],
   "source": [
    "newmodel.fit(X_train, y_train, validation_data=(X_test, y_test), nb_epoch=15, batch_size=64)"
   ]
  },
  {
   "cell_type": "code",
   "execution_count": 173,
   "metadata": {},
   "outputs": [],
   "source": [
    "preds = [np.argmax(x) for x in newmodel.predict(X_test)]\n",
    "y_test_argmax = [np.argmax(x) for x in y_test]"
   ]
  },
  {
   "cell_type": "code",
   "execution_count": 165,
   "metadata": {},
   "outputs": [
    {
     "name": "stdout",
     "output_type": "stream",
     "text": [
      "              precision    recall  f1-score   support\n",
      "\n",
      "    Academic       0.71      0.71      0.71        38\n",
      "  Automobile       0.68      0.50      0.57        54\n",
      "     Banking       0.63      0.67      0.65        39\n",
      "    Computer       0.35      0.50      0.41        28\n",
      "\n",
      "    accuracy                           0.59       159\n",
      "   macro avg       0.59      0.59      0.59       159\n",
      "weighted avg       0.62      0.59      0.60       159\n",
      "\n"
     ]
    }
   ],
   "source": [
    "print (metrics.classification_report(preds, y_test_argmax, target_names=le.classes_))"
   ]
  },
  {
   "cell_type": "code",
   "execution_count": 289,
   "metadata": {},
   "outputs": [],
   "source": [
    "from tensorflow.keras.layers import SpatialDropout1D"
   ]
  },
  {
   "cell_type": "markdown",
   "metadata": {},
   "source": [
    "# Best Model"
   ]
  },
  {
   "cell_type": "markdown",
   "metadata": {},
   "source": [
    "# Custom WF-257 with LSTM"
   ]
  },
  {
   "cell_type": "code",
   "execution_count": 290,
   "metadata": {},
   "outputs": [],
   "source": [
    "mode257 = Sequential([\n",
    "        Embedding(vocab_size, 50, input_length=seq_len),\n",
    "        SpatialDropout1D(0.2),\n",
    "        LSTM(100, dropout=0.2, recurrent_dropout=0.2),\n",
    "        Dense(4, activation='softmax')])\n",
    "mode257.compile(loss='categorical_crossentropy', optimizer=Adam(), metrics=['accuracy'])"
   ]
  },
  {
   "cell_type": "code",
   "execution_count": 313,
   "metadata": {},
   "outputs": [
    {
     "name": "stderr",
     "output_type": "stream",
     "text": [
      "W1124 23:56:46.097916 12792 training.py:593] The `nb_epoch` argument in `fit` has been renamed `epochs`.\n"
     ]
    },
    {
     "name": "stdout",
     "output_type": "stream",
     "text": [
      "Train on 632 samples, validate on 159 samples\n",
      "Epoch 1/15\n",
      "632/632 [==============================] - 9s 14ms/sample - loss: 0.3260 - acc: 0.8797 - val_loss: 0.3182 - val_acc: 0.8742\n",
      "Epoch 2/15\n",
      "632/632 [==============================] - 8s 13ms/sample - loss: 0.2416 - acc: 0.9114 - val_loss: 0.3166 - val_acc: 0.8805\n",
      "Epoch 3/15\n",
      "632/632 [==============================] - 8s 13ms/sample - loss: 0.1899 - acc: 0.9177 - val_loss: 0.3105 - val_acc: 0.8805\n",
      "Epoch 4/15\n",
      "632/632 [==============================] - 8s 13ms/sample - loss: 0.1629 - acc: 0.9304 - val_loss: 0.3183 - val_acc: 0.8742\n",
      "Epoch 5/15\n",
      "632/632 [==============================] - 8s 13ms/sample - loss: 0.1550 - acc: 0.9304 - val_loss: 0.3198 - val_acc: 0.8742\n",
      "Epoch 6/15\n",
      "632/632 [==============================] - 9s 13ms/sample - loss: 0.1467 - acc: 0.9335 - val_loss: 0.3218 - val_acc: 0.8679\n",
      "Epoch 7/15\n",
      "632/632 [==============================] - 9s 14ms/sample - loss: 0.1350 - acc: 0.9415 - val_loss: 0.3286 - val_acc: 0.8679\n",
      "Epoch 8/15\n",
      "632/632 [==============================] - 8s 13ms/sample - loss: 0.1313 - acc: 0.9399 - val_loss: 0.3344 - val_acc: 0.8616\n",
      "Epoch 9/15\n",
      "632/632 [==============================] - 8s 13ms/sample - loss: 0.1353 - acc: 0.9478 - val_loss: 0.3388 - val_acc: 0.8491\n",
      "Epoch 10/15\n",
      "632/632 [==============================] - 9s 14ms/sample - loss: 0.1269 - acc: 0.9430 - val_loss: 0.3406 - val_acc: 0.8616\n",
      "Epoch 11/15\n",
      "632/632 [==============================] - 9s 15ms/sample - loss: 0.1274 - acc: 0.9494 - val_loss: 0.3481 - val_acc: 0.8553\n",
      "Epoch 12/15\n",
      "632/632 [==============================] - 9s 14ms/sample - loss: 0.1351 - acc: 0.9335 - val_loss: 0.3517 - val_acc: 0.8616\n",
      "Epoch 13/15\n",
      "632/632 [==============================] - 10s 15ms/sample - loss: 0.1202 - acc: 0.9430 - val_loss: 0.3554 - val_acc: 0.8491\n",
      "Epoch 14/15\n",
      "632/632 [==============================] - 10s 15ms/sample - loss: 0.1188 - acc: 0.9430 - val_loss: 0.3620 - val_acc: 0.8428\n",
      "Epoch 15/15\n",
      "632/632 [==============================] - 10s 16ms/sample - loss: 0.1263 - acc: 0.9399 - val_loss: 0.3585 - val_acc: 0.8679\n"
     ]
    }
   ],
   "source": [
    "history3=mode257.fit(X_train, y_train, validation_data=(X_test, y_test), nb_epoch=15, batch_size=64)"
   ]
  },
  {
   "cell_type": "code",
   "execution_count": 314,
   "metadata": {},
   "outputs": [],
   "source": [
    "predslast = [np.argmax(x) for x in mode257.predict(X_test)]\n",
    "y_test_argmax = [np.argmax(x) for x in y_test]"
   ]
  },
  {
   "cell_type": "code",
   "execution_count": 324,
   "metadata": {},
   "outputs": [
    {
     "name": "stdout",
     "output_type": "stream",
     "text": [
      "accuracy 0.8679245283018868\n"
     ]
    }
   ],
   "source": [
    "print('accuracy %s' % accuracy_score(predslast, y_test_argmax))"
   ]
  },
  {
   "cell_type": "code",
   "execution_count": 315,
   "metadata": {},
   "outputs": [
    {
     "name": "stdout",
     "output_type": "stream",
     "text": [
      "              precision    recall  f1-score   support\n",
      "\n",
      "    Academic       0.92      0.97      0.95        37\n",
      "  Automobile       0.87      0.84      0.85        31\n",
      "     Banking       0.84      0.90      0.87        40\n",
      "    Computer       0.85      0.78      0.82        51\n",
      "\n",
      "    accuracy                           0.87       159\n",
      "   macro avg       0.87      0.87      0.87       159\n",
      "weighted avg       0.87      0.87      0.87       159\n",
      "\n"
     ]
    }
   ],
   "source": [
    "print (metrics.classification_report(predslast, y_test_argmax, target_names=le.classes_))"
   ]
  }
 ],
 "metadata": {
  "kernelspec": {
   "display_name": "Python 3",
   "language": "python",
   "name": "python3"
  },
  "language_info": {
   "codemirror_mode": {
    "name": "ipython",
    "version": 3
   },
   "file_extension": ".py",
   "mimetype": "text/x-python",
   "name": "python",
   "nbconvert_exporter": "python",
   "pygments_lexer": "ipython3",
   "version": "3.7.3"
  }
 },
 "nbformat": 4,
 "nbformat_minor": 2
}
